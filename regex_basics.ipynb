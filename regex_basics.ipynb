{
 "cells": [
  {
   "cell_type": "code",
   "execution_count": 42,
   "id": "44de32b3",
   "metadata": {},
   "outputs": [],
   "source": [
    "# Essential stuff\n",
    "import re\n",
    "\n",
    "# Read the log file\n",
    "log_file = open(\"sample_log.txt\").read().strip()\n",
    "log_file = log_file.replace(\"timer\", \"timerduckstring\")"
   ]
  },
  {
   "cell_type": "code",
   "execution_count": 44,
   "id": "e9e1adf9",
   "metadata": {},
   "outputs": [
    {
     "name": "stdout",
     "output_type": "stream",
     "text": [
      "1520 1525\n",
      "timer\n"
     ]
    }
   ],
   "source": [
    "# Check if the word 'timer' is present in the log\n",
    "match = re.search(\"timer\", log_file)\n",
    "\n",
    "# See start and end of first occurence\n",
    "print(match.start(), match.end())\n",
    "\n",
    "# See matched string (not very relevant here)\n",
    "print(match.group())"
   ]
  },
  {
   "cell_type": "code",
   "execution_count": null,
   "id": "59f19333",
   "metadata": {},
   "outputs": [],
   "source": []
  }
 ],
 "metadata": {
  "kernelspec": {
   "display_name": "Python 3",
   "language": "python",
   "name": "python3"
  },
  "language_info": {
   "codemirror_mode": {
    "name": "ipython",
    "version": 3
   },
   "file_extension": ".py",
   "mimetype": "text/x-python",
   "name": "python",
   "nbconvert_exporter": "python",
   "pygments_lexer": "ipython3",
   "version": "3.8.5"
  }
 },
 "nbformat": 4,
 "nbformat_minor": 5
}
