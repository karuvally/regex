{
 "cells": [
  {
   "cell_type": "code",
   "execution_count": 1,
   "id": "44de32b3",
   "metadata": {},
   "outputs": [],
   "source": [
    "# Essential stuff\n",
    "import re\n",
    "\n",
    "# Read the log file\n",
    "log_file = open(\"sample_log.txt\").read().strip()"
   ]
  },
  {
   "cell_type": "code",
   "execution_count": 6,
   "id": "e9e1adf9",
   "metadata": {},
   "outputs": [
    {
     "name": "stdout",
     "output_type": "stream",
     "text": [
      "<class 're.Match'>\n",
      "1520 1525\n"
     ]
    }
   ],
   "source": [
    "# Find the first occurence of \"timer\" in the log file\n",
    "# [NOTE] The r\"\", this is to indicate a raw string\n",
    "match = re.search(r\"timer\", log_file)\n",
    "\n",
    "# If successful, it returns a Match object\n",
    "print(type(match))\n",
    "\n",
    "# I\n",
    "match = re.search(r\"NON_EXISTANT_STRING\", log_file)\n",
    "print()\n",
    "\n",
    "# Show the character at which match starts and ends\n",
    "print(match.start(), match.end())"
   ]
  },
  {
   "cell_type": "code",
   "execution_count": null,
   "id": "59f19333",
   "metadata": {},
   "outputs": [],
   "source": [
    "# Find all the occurence of \"timer\" in the log file\n"
   ]
  }
 ],
 "metadata": {
  "kernelspec": {
   "display_name": "Python 3",
   "language": "python",
   "name": "python3"
  },
  "language_info": {
   "codemirror_mode": {
    "name": "ipython",
    "version": 3
   },
   "file_extension": ".py",
   "mimetype": "text/x-python",
   "name": "python",
   "nbconvert_exporter": "python",
   "pygments_lexer": "ipython3",
   "version": "3.8.5"
  }
 },
 "nbformat": 4,
 "nbformat_minor": 5
}
